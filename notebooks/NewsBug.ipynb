{
  "cells": [
    {
      "cell_type": "code",
      "execution_count": null,
      "metadata": {
        "id": "U4hLw9jaVN36"
      },
      "outputs": [],
      "source": [
        "from pdf2image import convert_from_path\n",
        "\n",
        "\n",
        "# Store Pdf with convert_from_path function\n",
        "images = convert_from_path('./input/newspaper.pdf')\n",
        "import os\n",
        "\n",
        "if not os.path.exists('images'):\n",
        "  os.makedirs('images')\n",
        "for i in range(len(images)):\n",
        "\n",
        "      # Save pages as images in the pdf\n",
        "    images[i].save('images/page'+ str(i) +'.jpg', 'JPEG')"
      ]
    },
    {
      "cell_type": "code",
      "execution_count": null,
      "metadata": {
        "colab": {
          "base_uri": "https://localhost:8080/",
          "height": 1000
        },
        "id": "NSo8CZTPfqpO",
        "outputId": "25f6e50b-2587-4cdb-ed25-cfcc2193bbbf"
      },
      "outputs": [],
      "source": [
        "import cv2\n",
        "image = cv2.imread('./images/page15.jpg') # reading the image\n",
        "gray = cv2.cvtColor(image, cv2.COLOR_BGR2GRAY) # convert2grayscale\n",
        "(thresh, binary) = cv2.threshold(gray, 150, 255, cv2.THRESH_BINARY | cv2.THRESH_OTSU) # convert2binary\n",
        "cv2.imshow('binary', binary)\n",
        "cv2.imwrite('binary.png', binary)"
      ]
    },
    {
      "cell_type": "code",
      "execution_count": null,
      "metadata": {
        "id": "CbbZx_zmhVug"
      },
      "outputs": [],
      "source": [
        "(contours, _) = cv2.findContours(~binary,cv2.RETR_EXTERNAL,cv2.CHAIN_APPROX_SIMPLE)\n",
        "# find contours\n",
        "for contour in contours:\n",
        "    \"\"\"\n",
        "    draw a rectangle around those contours on main image\n",
        "    \"\"\"\n",
        "    [x,y,w,h] = cv2.boundingRect(contour)\n",
        "    cv2.rectangle(image, (x,y), (x+w,y+h), (0, 255, 0), 1)\n",
        "cv2.imshow('contours.png', image)\n",
        "cv2.imwrite('contours.png', image)\n",
        "cv2.waitKey(0)\n",
        "cv2.destroyAllWindows()"
      ]
    },
    {
      "cell_type": "code",
      "execution_count": null,
      "metadata": {
        "colab": {
          "base_uri": "https://localhost:8080/",
          "height": 1000
        },
        "id": "gbBtPTaPhsMK",
        "outputId": "f259a368-4523-4eed-c7a6-0d5f2c1b9151"
      },
      "outputs": [],
      "source": [
        "import numpy as np\n",
        "mask = np.ones(image.shape[:2], dtype=\"uint8\") * 255 # create blank image of same dimension of the original image\n",
        "(contours, _) = cv2.findContours(~binary,cv2.RETR_EXTERNAL,cv2.CHAIN_APPROX_SIMPLE)\n",
        "heights = [cv2.boundingRect(contour)[3] for contour in contours] # collecting heights of each contour\n",
        "avgheight = sum(heights)/len(heights) # average height\n",
        "# finding the larger contours\n",
        "# Applying Height heuristic\n",
        "for c in contours:\n",
        "    [x,y,w,h] = cv2.boundingRect(c)\n",
        "    if h > 2*avgheight:\n",
        "        cv2.drawContours(mask, [c], -1, 0, -1)\n",
        "cv2.imshow('filter.png', mask)\n",
        "cv2.imwrite('filter.png', ma Processing binary.pngsk)"
      ]
    },
    {
      "cell_type": "code",
      "execution_count": null,
      "metadata": {
        "colab": {
          "base_uri": "https://localhost:8080/",
          "height": 1000
        },
        "id": "mfBALmcgjr1K",
        "outputId": "0bf71a6e-43f7-4fa6-b8df-5995d77c2ad1"
      },
      "outputs": [],
      "source": [
        "from pythonRLSA import rlsa\n",
        "import math\n",
        "x, y = mask.shape\n",
        "value = max(math.ceil(x/100),math.ceil(y/100))+20 #heuristic\n",
        "mask = rlsa.rlsa(mask, True, False, value) #rlsa application\n",
        "cv2.imshow('rlsah.png', mask)\n",
        "cv2.imwrite('rlsah.png', mask)"
      ]
    },
    {
      "cell_type": "code",
      "execution_count": null,
      "metadata": {
        "colab": {
          "base_uri": "https://localhost:8080/",
          "height": 1000
        },
        "id": "3vBLrPzSklUN",
        "outputId": "245c1e57-7335-4ffe-b819-2f4ba7ff5f71"
      },
      "outputs": [],
      "source": [
        "(contours, _) = cv2.findContours(~mask,cv2.RETR_EXTERNAL,cv2.CHAIN_APPROX_SIMPLE) # find contours\n",
        "mask2 = np.ones(image.shape, dtype=\"uint8\") * 255 # blank 3 layer image\n",
        "for contour in contours:\n",
        "    [x, y, w, h] = cv2.boundingRect(contour)\n",
        "    if w > 0.60*image.shape[1]: # width heuristic applied\n",
        "        title = image[y: y+h, x: x+w]\n",
        "        mask2[y: y+h, x: x+w] = title # copied title contour onto the blank image\n",
        "        image[y: y+h, x: x+w] = 255 # nullified the title contour on original image\n",
        "cv2.imshow('title', mask2)\n",
        "cv2.imwrite('title.png', mask2)\n",
        "cv2.imshow('content', image)\n",
        "cv2.imshow('content.png', image)\n",
        "cv2.waitKey(0)\n",
        "cv2.destroyAllWindows()\n"
      ]
    },
    {
      "cell_type": "code",
      "execution_count": null,
      "metadata": {
        "id": "XU0yLysNk_37"
      },
      "outputs": [],
      "source": [
        "import pytesseract\n",
        "title = pytesseract.image_to_string(Image.fromarray(mask2))\n",
        "content = pytesseract.image_to_string(Image.fromarray(image))"
      ]
    },
    {
      "cell_type": "code",
      "execution_count": null,
      "metadata": {
        "colab": {
          "base_uri": "https://localhost:8080/",
          "height": 1000
        },
        "id": "tcCP-m4_lx5H",
        "outputId": "8c81f32b-324e-48ca-d610-d91c053b08ee"
      },
      "outputs": [],
      "source": [
        "minLineLength = 100\n",
        "maxLineGap = 50\n",
        "def lines_extraction(gray):\n",
        "    \"\"\"\n",
        "    this function extracts the lines from the binary image. Cleaning process.\n",
        "    \"\"\"\n",
        "    edges = cv2.Canny(gray, 75, 150)\n",
        "    lines = cv2.HoughLinesP(edges, 1, np.pi/180, 100, minLineLength, maxLineGap)\n",
        "    return lines\n",
        "mask = np.ones(image.shape[:2], dtype=\"uint8\") * 255 # create a white image\n",
        "lines = lines_extraction(gray) # extract lines\n",
        "try:\n",
        "    for line in lines: # write lines to mask\n",
        "        x1, y1, x2, y2 = line[0]\n",
        "        cv2.line(mask, (x1, y1), (x2, y2), (0, 255, 0), 3)\n",
        "except TypeError:\n",
        "    pass\n",
        "(contours, _) = cv2.findContours(~binary,cv2.RETR_EXTERNAL,cv2.CHAIN_APPROX_SIMPLE) # find contours\n",
        "areas = [cv2.contourArea(c) for c in contours] # find area of contour\n",
        "avgArea = sum(areas)/len(areas) # finding average area\n",
        "for c in contours:# average area heuristics\n",
        "    if cv2.contourArea(c)>60*avgArea:\n",
        "        cv2.drawContours(mask, [c], -1, 0, -1)\n",
        "binary = cv2.bitwise_and(binary, binary, mask=mask) # subtracting the noise\n",
        "cv2.imwrite('noise.png', mask)\n",
        "cv2.imshow('mask', mask)\n",
        "cv2.imshow('binary_noise_removal', ~binary)\n",
        "cv2.imwrite('binary_noise_removal.png', ~binary)\n",
        "cv2.waitKey(0)\n",
        "cv2.destroyAllWindows()"
      ]
    },
    {
      "cell_type": "code",
      "execution_count": null,
      "metadata": {
        "id": "Ty1nTkTnmChW"
      },
      "outputs": [],
      "source": [
        "cv2.imshow('binary_noise_removal', ~binary)"
      ]
    }
  ],
  "metadata": {
    "colab": {
      "provenance": []
    },
    "kernelspec": {
      "display_name": "Python 3",
      "name": "python3"
    },
    "language_info": {
      "codemirror_mode": {
        "name": "ipython",
        "version": 3
      },
      "file_extension": ".py",
      "mimetype": "text/x-python",
      "name": "python",
      "nbconvert_exporter": "python",
      "pygments_lexer": "ipython3",
      "version": "3.11.6"
    }
  },
  "nbformat": 4,
  "nbformat_minor": 0
}
